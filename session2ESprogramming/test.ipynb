{
 "cells": [
  {
   "cell_type": "code",
   "execution_count": 4,
   "id": "54c35438",
   "metadata": {},
   "outputs": [
    {
     "name": "stdout",
     "output_type": "stream",
     "text": [
      "[0.5, 1.0, 1.5]\n"
     ]
    }
   ],
   "source": [
    "a = [1,2,3]\n",
    "x = [n/2 for n in a]\n",
    "print(x)"
   ]
  },
  {
   "cell_type": "code",
   "execution_count": 7,
   "id": "4243ad13",
   "metadata": {},
   "outputs": [
    {
     "name": "stdout",
     "output_type": "stream",
     "text": [
      "[0.26726124 0.53452248 0.80178373]\n"
     ]
    }
   ],
   "source": [
    "import numpy as np\n",
    "\n",
    "tw = [1,2,3]\n",
    "norm = np.linalg.norm(tw)\n",
    "tw_normal = tw/norm\n",
    "print(tw_normal)\n"
   ]
  },
  {
   "cell_type": "code",
   "execution_count": 3,
   "id": "e3d38f84",
   "metadata": {},
   "outputs": [
    {
     "name": "stdout",
     "output_type": "stream",
     "text": [
      "[('vaca', 0.2672612419124244), ('bacca', 0.5345224838248488), ('asxsdadas', 0.8017837257372732)]\n"
     ]
    }
   ],
   "source": [
    "import numpy as np\n",
    "def normalize(tw):\n",
    "    \"\"\"\n",
    "    Normalizes the weights in t so that they form a unit-length vector\n",
    "    It is assumed that not all weights are 0\n",
    "    :param tw:\n",
    "    :return:\n",
    "    \"\"\"\n",
    "    total = 0\n",
    "    for (t,w) in tw:\n",
    "        total += w**2\n",
    "\n",
    "    tw_normal = [(t,w/np.sqrt(total)) for (t,w) in tw]\n",
    "\n",
    "    return tw_normal\n",
    "a = [('vaca',1),('bacca',2),('asxsdadas',3)]\n",
    "print(normalize(normalize(a)))"
   ]
  },
  {
   "cell_type": "code",
   "execution_count": 2,
   "id": "28c2c250",
   "metadata": {
    "scrolled": true
   },
   "outputs": [
    {
     "name": "stdout",
     "output_type": "stream",
     "text": [
      "1 1\n",
      "2 1\n",
      "3 2\n",
      "4 3\n",
      "5 4\n",
      "0.03511033978414337\n"
     ]
    }
   ],
   "source": [
    "import numpy as np\n",
    "\n",
    "\n",
    "def normalize(tw):\n",
    "    \"\"\"\n",
    "    Normalizes the weights in t so that they form a unit-length vector\n",
    "    It is assumed that not all weights are 0\n",
    "    :param tw:\n",
    "    :return:\n",
    "    \"\"\"\n",
    "    total = 0\n",
    "    for (t,w) in tw:\n",
    "        total += w**2\n",
    "\n",
    "    tw_normal = [(t,w/np.sqrt(total)) for (t,w) in tw]\n",
    "\n",
    "    return tw_normal\n",
    "def cosine_similarity(tw1, tw2):\n",
    "    \"\"\"\n",
    "    Computes the cosine similarity between two weight vectors, terms are alphabetically ordered\n",
    "    :param tw1:\n",
    "    :param tw2:\n",
    "    :return:\n",
    "    \"\"\"\n",
    "    #\n",
    "    # Program something here\n",
    "    #\n",
    "\n",
    "    n1 = normalize(tw1)\n",
    "    n2 = normalize(tw2)\n",
    "\n",
    "    it1=0\n",
    "    it2=0\n",
    "    simil=0.0\n",
    "    #com que els vectors no tenen perque tenir els mateixos elements avancem\n",
    "    #de un en un i comparem els termes (cost 2n)\n",
    "    while (it1<len(n1) and it2<len(n2)): \n",
    "\n",
    "        elem1 = n1[it1]\n",
    "        elem2 = n2[it2]\n",
    "\n",
    "        if elem1[0] < elem2[0]: \n",
    "            it1 +=1\n",
    "        elif elem1[0] > elem2[0]: \n",
    "            it2 +=1\n",
    "        #nomes cal processar la similaritat si esta el temrme en els dos vetors, ja que si no el producte dels pesos sera 0\n",
    "        else :\n",
    "            simil += elem1[1] * elem2[1]\n",
    "            it1+=1\n",
    "            it2+=1\n",
    "\n",
    "        print(it1,it2)\n",
    "    return simil\n",
    "\n",
    "\n",
    "a = [('a',1.81),('b',0.41),('c',0.41),('d',0),('e',0.07)]\n",
    "b = [('a',0),('c',0.61),('d',1.22),('e',0.11),('f',3.61)]\n",
    "\n",
    "a = normalize(a)\n",
    "b = normalize(b)\n",
    "    \n",
    "print(cosine_similarity(a,b))"
   ]
  },
  {
   "cell_type": "code",
   "execution_count": null,
   "id": "b9321e37",
   "metadata": {},
   "outputs": [],
   "source": []
  },
  {
   "cell_type": "code",
   "execution_count": null,
   "id": "6c113789",
   "metadata": {},
   "outputs": [],
   "source": []
  }
 ],
 "metadata": {
  "kernelspec": {
   "display_name": "Python 3",
   "language": "python",
   "name": "python3"
  },
  "language_info": {
   "codemirror_mode": {
    "name": "ipython",
    "version": 3
   },
   "file_extension": ".py",
   "mimetype": "text/x-python",
   "name": "python",
   "nbconvert_exporter": "python",
   "pygments_lexer": "ipython3",
   "version": "3.8.10"
  }
 },
 "nbformat": 4,
 "nbformat_minor": 5
}
