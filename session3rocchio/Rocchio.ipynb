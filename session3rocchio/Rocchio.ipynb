{
 "cells": [
  {
   "cell_type": "markdown",
   "metadata": {},
   "source": [
    "# Session 3 - User Relevance Feedback"
   ]
  },
  {
   "cell_type": "markdown",
   "metadata": {},
   "source": [
    "## 1 Document Relevance\n",
    "\n",
    "In this sesion we are going to implement a pseudo user relevance feedback on top of ElasticSearch\n",
    "\n",
    "One possibility that we have not used from the query results of ElasticSeach is the score computed as the relevance of the document respect to the terms of a query.\n",
    "\n",
    "You have the script `SearchIndexWeights.py` that allows searching for keywords in an index just like we do in any seach engine (like Google search or Bing).\n",
    "\n",
    "This script returns a limited number of hits and also shows the score of the documents (the documents are sorted by its score)\n",
    "\n",
    "**Read the first section** of the session documentation and play a little bit with the documents that you have in the `news` index."
   ]
  },
  {
   "cell_type": "code",
   "execution_count": 1,
   "metadata": {},
   "outputs": [
    {
     "name": "stdout",
     "output_type": "stream",
     "text": [
      "ID= udUOwXwBa2h4IIRS8nQo SCORE=7.8208394\n",
      "PATH= /tmp/20_newsgroups/rec.sport.hockey/0010493\n",
      "TEXT: Detroit is a very disciplined team.  There's a lot\n",
      "-----------------------------------------------------------------\n",
      "ID= ntUOwXwBa2h4IIRS83ou SCORE=7.634695\n",
      "PATH= /tmp/20_newsgroups/rec.sport.baseball/0009082\n",
      "TEXT: In article <C51vwC.Lru@usenet.ucs.indiana.edu> bod\n",
      "-----------------------------------------------------------------\n",
      "ID= a9UOwXwBa2h4IIRS8naL SCORE=7.510704\n",
      "PATH= /tmp/20_newsgroups/rec.sport.hockey/0010488\n",
      "TEXT: Detroit's going to beat Toronto in 6 or LESS!!!\n",
      " G\n",
      "-----------------------------------------------------------------\n"
     ]
    },
    {
     "name": "stderr",
     "output_type": "stream",
     "text": [
      "/home/miquel/.local/lib/python3.8/site-packages/elasticsearch/connection/base.py:209: ElasticsearchWarning: Elasticsearch built-in security features are not enabled. Without authentication, your cluster could be accessible to anyone. See https://www.elastic.co/guide/en/elasticsearch/reference/7.13/security-minimal-setup.html to enable security.\n",
      "  warnings.warn(message, category=ElasticsearchWarning)\n"
     ]
    }
   ],
   "source": [
    "from elasticsearch import Elasticsearch\n",
    "from elasticsearch_dsl import Search\n",
    "from elasticsearch_dsl.query import Q\n",
    "\n",
    "\n",
    "client = Elasticsearch()\n",
    "s = Search(using=client, index='news')\n",
    "\n",
    "\n",
    "q = Q('query_string',query='toronto')  # Feel free to change the word\n",
    "\n",
    "s = s.query(q)\n",
    "response = s[0:3].execute()\n",
    "for r in response:  # only returns a specific number of results\n",
    "    print('ID= %s SCORE=%s' % (r.meta.id,  r.meta.score))\n",
    "    print('PATH= %s' % r.path)\n",
    "    print('TEXT: %s' % r.text[:50])\n",
    "    print('-----------------------------------------------------------------')"
   ]
  },
  {
   "cell_type": "markdown",
   "metadata": {},
   "source": [
    "***\n",
    "\n",
    "## 2 Rocchio's Rule\n",
    "\n",
    "\n",
    "For implementing the relevance we are going to use the Rocchio's rule. We are going to extend the query for a number of interations using the terms in the more relevant documents that are retrieved.\n",
    "\n",
    "As is described in the session documentation you will need to write a scripts that given a query, repeats a number ($nrounds$) of times:\n",
    "\n",
    "1. Obtain the $k$ more relevant documents\n",
    "2. Compute a new query using the current query and the terms of the $k$ documents\n",
    "\n",
    "The Rocchio's rule involves computing the folowing:\n",
    "\n",
    "$$Query' = \t\\alpha \\times Query + \\beta \\times \\frac{d_1 + d_2 + \\cdots + d_k}{k}$$\n",
    "\n",
    "So we have different parameters to play with:\n",
    "\n",
    "1. The number of rounds ($nrounds$)\n",
    "2. The number of relevand documents ($k$)\n",
    "3. The parameters of the Rocchio's rule ($\\alpha$ and $\\beta$)\n",
    "4. The numbeer of terms in the recomputed query ($R$)\n",
    "\n",
    "**Read the documentation** and pay attention specially to how you have to build the query that you pass to ElasticSearch to include thw weights computed by the Rocchio's rule.\n",
    "\n",
    "Think that some of the elements that you need for this part are functions that you programmed already as part of the past session assignment.\n",
    "\n",
    "**Pay attention** to the documentation that you have to deliver for this session.\n",
    "\n"
   ]
  },
  {
   "cell_type": "code",
   "execution_count": 7,
   "metadata": {},
   "outputs": [
    {
     "name": "stdout",
     "output_type": "stream",
     "text": [
      "{'a': 3, 'b': 1, 'c': 1, 'd': 1}\n"
     ]
    }
   ],
   "source": [
    "D = dict([(\"a\",1),(\"b\",1),(\"c\",1),(\"d\",1)])\n",
    "key = \"a\"\n",
    "if key in D:\n",
    "    D[key]= D[key]+2\n",
    "print(D)"
   ]
  },
  {
   "cell_type": "code",
   "execution_count": 23,
   "metadata": {},
   "outputs": [
    {
     "name": "stdout",
     "output_type": "stream",
     "text": [
      "[('z', 3.0), ('a', 2.0), ('b', 1.0)]\n"
     ]
    }
   ],
   "source": [
    "alpha = 1.0\n",
    "beta = 1.0\n",
    "\n",
    "def rocchioNewQuery(query,merged_d):\n",
    "\n",
    "    for q in query:\n",
    "        query[q] *= alpha\n",
    "\n",
    "    for d in merged_d:\n",
    "        merged_d[d] *=beta\n",
    "\n",
    "    for q in query:\n",
    "        if q in merged_d:\n",
    "            merged_d[q] = merged_d[q] + query[q]\n",
    "        else:\n",
    "            merged_d[q]=query[q]\n",
    "\n",
    "    r = list(zip(merged_d.keys(), merged_d.values()))\n",
    "    return sorted(r, key=lambda x: x[1],reverse=True)[:3]\n",
    "\n",
    "D = dict([(\"a\",1),(\"b\",1),(\"c\",1),(\"d\",1)])\n",
    "Q = dict([(\"a\",1),(\"z\",3)])\n",
    "print(rocchioNewQuery(Q,D))"
   ]
  },
  {
   "cell_type": "code",
   "execution_count": null,
   "metadata": {},
   "outputs": [],
   "source": []
  }
 ],
 "metadata": {
  "kernelspec": {
   "display_name": "Python 3",
   "language": "python",
   "name": "python3"
  },
  "language_info": {
   "codemirror_mode": {
    "name": "ipython",
    "version": 3
   },
   "file_extension": ".py",
   "mimetype": "text/x-python",
   "name": "python",
   "nbconvert_exporter": "python",
   "pygments_lexer": "ipython3",
   "version": "3.8.10"
  },
  "toc": {
   "colors": {
    "hover_highlight": "#DAA520",
    "navigate_num": "#000000",
    "navigate_text": "#333333",
    "running_highlight": "#FF0000",
    "selected_highlight": "#FFD700",
    "sidebar_border": "#EEEEEE",
    "wrapper_background": "#FFFFFF"
   },
   "moveMenuLeft": true,
   "nav_menu": {
    "height": "66px",
    "width": "252px"
   },
   "navigate_menu": true,
   "number_sections": true,
   "sideBar": true,
   "threshold": 4,
   "toc_cell": false,
   "toc_section_display": "block",
   "toc_window_display": false,
   "widenNotebook": false
  }
 },
 "nbformat": 4,
 "nbformat_minor": 1
}
