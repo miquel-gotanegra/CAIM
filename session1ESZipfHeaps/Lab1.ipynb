{
 "cells": [
  {
   "cell_type": "code",
   "execution_count": 16,
   "id": "5456d64e",
   "metadata": {},
   "outputs": [
    {
     "name": "stdout",
     "output_type": "stream",
     "text": [
      "9\n",
      "9\n",
      "k = 279.2816, b = 0.3245\n"
     ]
    },
    {
     "data": {
      "image/png": "[encoded data removed]",
      "text/plain": [
       "<Figure size 432x288 with 1 Axes>"
      ]
     },
     "metadata": {
      "needs_background": "light"
     },
     "output_type": "display_data"
    }
   ],
   "source": [
    "import enchant\n",
    "import matplotlib.pyplot as plt\n",
    "from scipy.optimize import curve_fit\n",
    "import numpy as np\n",
    "dict = enchant.Dict(\"en_US\")\n",
    "\n",
    "a = 1\n",
    "\n",
    "def func(x, b, c):\n",
    "    return c/((x+b)**a)\n",
    "\n",
    "def zipf(xdata,ydata):\n",
    "    popt, pcov = curve_fit(func, xdata, ydata)\n",
    "    print('Parametres en funcio de a = %.4f'%a)\n",
    "    print('b = %.4f, c = %.4f' % (popt[0],popt[1]))\n",
    "    zipfdata = []\n",
    "    for num in xdata:\n",
    "        zipfdata.append(func(num,*popt))\n",
    "    \n",
    "    #Choose plot here\n",
    "    plt.plot(xdata, ydata, 'g-', label='Valor real de la freqüencia')\n",
    "    plt.plot(xdata, zipfdata,'r-',label='Aproximació de Zipf')\n",
    "    plt.legend()\n",
    "    plt.xlabel('x =Rang')\n",
    "    plt.ylabel('y =Freqüencia')\n",
    "    plt.yscale('log')\n",
    "    plt.xscale('log')\n",
    "    plt.show()\n",
    "    \n",
    "def heaps(xdata,ydata):\n",
    "    popt, pcov = curve_fit(func2, xdata, ydata)\n",
    "    print('k = %.4f, b = %.4f' % (popt[0],popt[1]))\n",
    "    zipfdata = []\n",
    "    for num in xdata:\n",
    "        zipfdata.append(func2(num,*popt))\n",
    "    \n",
    "    #Choose plot here\n",
    "    plt.plot(xdata, ydata, 'g-', label='Valor real de paraules diferents')\n",
    "    plt.plot(xdata, zipfdata,'r-',label='Aproximació de Heaps')\n",
    "    plt.legend()\n",
    "    plt.xlabel('x =Log Paraules Totals')\n",
    "    plt.ylabel('y =Log Paraules Diferents')\n",
    "    plt.yscale('log')\n",
    "    plt.xscale('log')\n",
    "    plt.show()\n",
    "\n",
    "#calculat amb el script de abaix\n",
    "vectorN = [2974726,2605076,2268991,1931085,1585328,1256901,915030,563125,205443] #total de palabras\n",
    "vectorD = [34485,32946,32213,30931,29401,27544,24764,20443,13424] #total de palabras distintas\n",
    "\n",
    "def func2(n,k,b):\n",
    "    return k * (n**b)\n",
    "\n",
    "\n",
    "file1 = open('novels_count.txt', 'r')\n",
    "Lines = file1.readlines()\n",
    "Result = []\n",
    "final=False\n",
    "WordCount=0\n",
    "EWordCount=0\n",
    "for string in Lines:\n",
    "    if(final):\n",
    "        WordCount=int(string.partition(' ')[0])\n",
    "        break\n",
    "    elif (string == '--------------------\\n'):\n",
    "        final=True\n",
    "    else:\n",
    "        w=(string.partition(', ')[0],string.partition(', ')[2].rstrip(\"\\n\"))\n",
    "        if (dict.check(w[1]) and not any(chr.isdigit() for chr in w[1])): #mirem si cada string es o no una paraula i si conte algun numero\n",
    "            Result.append(w)\n",
    "            EWordCount += int(w[0])\n",
    "            \n",
    "\n",
    "Result.reverse()\n",
    "Result = Result[0:10000]\n",
    "\n",
    "rank = []\n",
    "freq =[]\n",
    "counter=1\n",
    "total=[]\n",
    "\n",
    "for w in Result:\n",
    "    freq.append(int(w[0])/EWordCount)\n",
    "    rank.append(counter)\n",
    "    counter=counter+1\n",
    "    \n",
    "\n",
    "#zipf(rank,freq)\n",
    "heaps(vectorN,vectorD)"
   ]
  },
  {
   "cell_type": "code",
   "execution_count": 12,
   "id": "d6df9334",
   "metadata": {
    "scrolled": true
   },
   "outputs": [
    {
     "name": "stdout",
     "output_type": "stream",
     "text": [
      "13424\n",
      "205443\n"
     ]
    }
   ],
   "source": [
    "import enchant\n",
    "import matplotlib.pyplot as plt\n",
    "from scipy.optimize import curve_fit\n",
    "import numpy as np\n",
    "dict = enchant.Dict(\"en_US\")\n",
    "\n",
    "\n",
    "file1 = open('novels8.txt', 'r')\n",
    "Lines = file1.readlines()\n",
    "DWordCount=0\n",
    "TWordCount=0\n",
    "Result=[]\n",
    "final=False\n",
    "for string in Lines:\n",
    "    if(final):\n",
    "        DWordCount=int(string.partition(' ')[0])\n",
    "        #print(DWordCount)\n",
    "        break\n",
    "    elif (string == '--------------------\\n'):\n",
    "        final=True\n",
    "    else:\n",
    "        w=(string.partition(', ')[0],string.partition(', ')[2].rstrip(\"\\n\"))\n",
    "        if (dict.check(w[1]) and not any(chr.isdigit() for chr in w[1])): #mirem si cada string es o no una paraula i si conte algun numero\n",
    "            Result.append(w)\n",
    "            TWordCount += int(w[0])\n",
    "            \n",
    "            \n",
    "DWordCount = len(Result)\n",
    "\n",
    "print(DWordCount)\n",
    "print(TWordCount)\n",
    "            \n"
   ]
  },
  {
   "cell_type": "code",
   "execution_count": null,
   "id": "dc59c31f",
   "metadata": {},
   "outputs": [],
   "source": []
  }
 ],
 "metadata": {
  "kernelspec": {
   "display_name": "Python 3",
   "language": "python",
   "name": "python3"
  },
  "language_info": {
   "codemirror_mode": {
    "name": "ipython",
    "version": 3
   },
   "file_extension": ".py",
   "mimetype": "text/x-python",
   "name": "python",
   "nbconvert_exporter": "python",
   "pygments_lexer": "ipython3",
   "version": "3.8.10"
  }
 },
 "nbformat": 4,
 "nbformat_minor": 5
}
